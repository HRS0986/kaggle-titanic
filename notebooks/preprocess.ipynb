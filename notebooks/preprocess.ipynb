{
 "cells": [
  {
   "cell_type": "code",
   "id": "initial_id",
   "metadata": {
    "collapsed": true,
    "ExecuteTime": {
     "end_time": "2024-04-11T06:39:22.610001Z",
     "start_time": "2024-04-11T06:39:22.593942Z"
    }
   },
   "source": [
    "import pandas as pd\n",
    "import  numpy as np"
   ],
   "outputs": [],
   "execution_count": 10
  },
  {
   "metadata": {},
   "cell_type": "code",
   "source": [
    "df = pd.read_csv(\"./../data/train.csv\")\n",
    "df_test = pd.read_csv(\"./../data/test.csv\")"
   ],
   "id": "d57504f9939788dc",
   "outputs": [],
   "execution_count": null
  },
  {
   "metadata": {},
   "cell_type": "code",
   "source": "df",
   "id": "ff6f174e0cedd90f",
   "outputs": [],
   "execution_count": null
  },
  {
   "metadata": {},
   "cell_type": "code",
   "source": [
    "df = df.drop(columns=[\"PassengerId\", \"Name\", \"Ticket\", \"Cabin\", \"Embarked\"])\n",
    "df_test = df_test.drop(columns=[\"PassengerId\", \"Name\", \"Ticket\", \"Cabin\", \"Embarked\"])"
   ],
   "id": "e11901313a89354b",
   "outputs": [],
   "execution_count": null
  },
  {
   "metadata": {},
   "cell_type": "code",
   "source": [
    "df[\"Age\"] = df[\"Age\"].fillna(df[\"Age\"].mean())\n",
    "df_test[\"Age\"] = df_test[\"Age\"].fillna(df_test[\"Age\"].mean())"
   ],
   "id": "2125215221dce4f7",
   "outputs": [],
   "execution_count": null
  },
  {
   "metadata": {
    "ExecuteTime": {
     "end_time": "2024-04-11T06:39:31.887289Z",
     "start_time": "2024-04-11T06:39:31.864076Z"
    }
   },
   "cell_type": "code",
   "source": "df = pd.get_dummies(df, columns=[\"Sex\"], dtype=np.int32)",
   "id": "4f80e9dbe3229e52",
   "outputs": [],
   "execution_count": 11
  },
  {
   "metadata": {
    "ExecuteTime": {
     "end_time": "2024-04-11T06:39:56.252713Z",
     "start_time": "2024-04-11T06:39:56.221462Z"
    }
   },
   "cell_type": "code",
   "source": "df_test = pd.get_dummies(df_test, columns=[\"Sex\"], dtype=np.int32)",
   "id": "2d76a16907ae0404",
   "outputs": [],
   "execution_count": 13
  },
  {
   "metadata": {},
   "cell_type": "code",
   "outputs": [],
   "execution_count": null,
   "source": "",
   "id": "7cc70247ee20e49e"
  }
 ],
 "metadata": {
  "kernelspec": {
   "display_name": "Python 3",
   "language": "python",
   "name": "python3"
  },
  "language_info": {
   "codemirror_mode": {
    "name": "ipython",
    "version": 2
   },
   "file_extension": ".py",
   "mimetype": "text/x-python",
   "name": "python",
   "nbconvert_exporter": "python",
   "pygments_lexer": "ipython2",
   "version": "2.7.6"
  }
 },
 "nbformat": 4,
 "nbformat_minor": 5
}
